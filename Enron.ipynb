{
 "cells": [
  {
   "cell_type": "markdown",
   "metadata": {},
   "source": [
    "# Enron Fraud Aanalysis"
   ]
  },
  {
   "cell_type": "markdown",
   "metadata": {},
   "source": [
    "## Enron\n",
    "\n",
    "Enron Corporation was an American energy, commodities, and services company based in Houston, Texas. It was founded in 1985 as a merger between Houston Natural Gas and InterNorth, both relatively small regional companies. Before its bankruptcy on December 2, 2001, Enron employed approximately 20,000 staff and was a major electricity, natural gas, communications and pulp and paper company, with claimed revenues of nearly $101 billion during 2000. Fortune named Enron \"America's Most Innovative Company\" for six consecutive years.\n",
    "\n",
    "At the end of 2001, it was revealed that Enron's reported financial condition was sustained by institutionalized, systematic, and creatively planned accounting fraud, known since as the Enron scandal. Enron has since become a well-known example of willful corporate fraud and corruption. The scandal also brought into question the accounting practices and activities of many corporations in the United States and was a factor in the enactment of the Sarbanes–Oxley Act of 2002. The scandal also affected the greater business world by causing the dissolution of the Arthur Andersen accounting firm.\n",
    "\n",
    "Enron filed for bankruptcy in the Southern District of New York in late 2001 and selected Weil, Gotshal & Manges as its bankruptcy counsel. It ended its bankruptcy during November 2004, pursuant to a court-approved plan of reorganization. A new board of directors changed the name of Enron to Enron Creditors Recovery Corp., and emphasized reorganizing and liquidating certain operations and assets of the pre-bankruptcy Enron. On September 7, 2006, Enron sold Prisma Energy International Inc., its last remaining business, to Ashmore Energy International Ltd. (now AEI)."
   ]
  },
  {
   "cell_type": "markdown",
   "metadata": {},
   "source": [
    "### Goal of the project (Question1)\n",
    "\n",
    "In this project we are going to take a look at enron data and try to find the patterns or relevent insights to figure out the POIs with the help of machine learning techniques.\n",
    "\n",
    "The dataset contains the financial and email data of 146 executives of Enron."
   ]
  },
  {
   "cell_type": "markdown",
   "metadata": {},
   "source": [
    "financial features: ['salary', 'deferral_payments', 'total_payments', 'loan_advances', 'bonus', 'restricted_stock_deferred', 'deferred_income', 'total_stock_value', 'expenses', 'exercised_stock_options', 'other', 'long_term_incentive', 'restricted_stock', 'director_fees'] (all units are in US dollars)\n",
    "\n",
    "email features: ['to_messages', 'email_address', 'from_poi_to_this_person', 'from_messages', 'from_this_person_to_poi', 'shared_receipt_with_poi'] (units are generally number of emails messages; notable exception is ‘email_address’, which is a text string)\n",
    "\n",
    "POI label: [‘poi’] (boolean, represented as integer)"
   ]
  },
  {
   "cell_type": "code",
   "execution_count": 1,
   "metadata": {},
   "outputs": [],
   "source": [
    "import pickle\n",
    "import sys\n",
    "import pandas as pd\n",
    "import numpy as np\n",
    "sys.path.append(\"../tools/\")\n",
    "from feature_format import featureFormat\n",
    "from sklearn.ensemble import ExtraTreesClassifier\n",
    "import matplotlib.pyplot as plt\n",
    "import warnings\n",
    "warnings.filterwarnings('ignore')"
   ]
  },
  {
   "cell_type": "code",
   "execution_count": 2,
   "metadata": {},
   "outputs": [],
   "source": [
    "data_dict = pickle.load(open(\"final_project_dataset.pkl\", \"rb\"))\n",
    "data = pd.DataFrame.from_dict(data_dict, orient=\"index\")"
   ]
  },
  {
   "cell_type": "code",
   "execution_count": 3,
   "metadata": {},
   "outputs": [
    {
     "name": "stdout",
     "output_type": "stream",
     "text": [
      "shape of data: (146, 21)\n",
      "number of POIs: 18\n",
      "number of non POIs: 128\n",
      "missing values:\n",
      "salary                       0\n",
      "to_messages                  0\n",
      "deferral_payments            0\n",
      "total_payments               0\n",
      "loan_advances                0\n",
      "bonus                        0\n",
      "email_address                0\n",
      "restricted_stock_deferred    0\n",
      "deferred_income              0\n",
      "total_stock_value            0\n",
      "expenses                     0\n",
      "from_poi_to_this_person      0\n",
      "exercised_stock_options      0\n",
      "from_messages                0\n",
      "other                        0\n",
      "from_this_person_to_poi      0\n",
      "poi                          0\n",
      "long_term_incentive          0\n",
      "shared_receipt_with_poi      0\n",
      "restricted_stock             0\n",
      "director_fees                0\n",
      "dtype: int64\n"
     ]
    }
   ],
   "source": [
    "print(\"shape of data:\",data.shape)\n",
    "print(\"number of POIs:\", (data.poi == True).sum())\n",
    "print(\"number of non POIs:\", (data.poi == False).sum())\n",
    "print(\"missing values:\")\n",
    "print(data.isna().sum())"
   ]
  },
  {
   "cell_type": "markdown",
   "metadata": {},
   "source": [
    "We can see that we have only 18 POIs in all 146 people in out data. And we have 21 features, out of which one is our target column. POIs in this case are the people who were either indicted, reached a settlement or plea deal with the government, or testified in exchange for prosecution immunity. \n",
    "\n",
    "As we can see only email and poi columns have all the data values rest of the columns have values missing. This may be because of the fact that either these featuers don't apply to these people, they never used these or these values were not recorded.\n",
    "In either scenario we will replace these values with zero in later section."
   ]
  },
  {
   "cell_type": "code",
   "execution_count": 4,
   "metadata": {},
   "outputs": [
    {
     "data": {
      "text/plain": [
       "salary                       object\n",
       "to_messages                  object\n",
       "deferral_payments            object\n",
       "total_payments               object\n",
       "loan_advances                object\n",
       "bonus                        object\n",
       "email_address                object\n",
       "restricted_stock_deferred    object\n",
       "deferred_income              object\n",
       "total_stock_value            object\n",
       "expenses                     object\n",
       "from_poi_to_this_person      object\n",
       "exercised_stock_options      object\n",
       "from_messages                object\n",
       "other                        object\n",
       "from_this_person_to_poi      object\n",
       "poi                            bool\n",
       "long_term_incentive          object\n",
       "shared_receipt_with_poi      object\n",
       "restricted_stock             object\n",
       "director_fees                object\n",
       "dtype: object"
      ]
     },
     "execution_count": 4,
     "metadata": {},
     "output_type": "execute_result"
    }
   ],
   "source": [
    "data.dtypes"
   ]
  },
  {
   "cell_type": "markdown",
   "metadata": {},
   "source": [
    "First of all I am going to change the data types of columns to correct ones"
   ]
  },
  {
   "cell_type": "code",
   "execution_count": 5,
   "metadata": {},
   "outputs": [],
   "source": [
    "column_list = ['salary', 'to_messages', 'deferral_payments', 'total_payments', 'loan_advances', 'bonus', 'restricted_stock_deferred', \n",
    "               'deferred_income', 'total_stock_value', 'expenses', 'from_poi_to_this_person', 'exercised_stock_options', 'from_messages',\n",
    "               'other', 'from_this_person_to_poi', 'long_term_incentive', 'shared_receipt_with_poi', 'restricted_stock', 'director_fees']\n",
    "for col in column_list:\n",
    "    data[col] = data[col].astype(float)\n"
   ]
  },
  {
   "cell_type": "code",
   "execution_count": 6,
   "metadata": {},
   "outputs": [
    {
     "data": {
      "text/html": [
       "<div>\n",
       "<style scoped>\n",
       "    .dataframe tbody tr th:only-of-type {\n",
       "        vertical-align: middle;\n",
       "    }\n",
       "\n",
       "    .dataframe tbody tr th {\n",
       "        vertical-align: top;\n",
       "    }\n",
       "\n",
       "    .dataframe thead th {\n",
       "        text-align: right;\n",
       "    }\n",
       "</style>\n",
       "<table border=\"1\" class=\"dataframe\">\n",
       "  <thead>\n",
       "    <tr style=\"text-align: right;\">\n",
       "      <th></th>\n",
       "      <th>salary</th>\n",
       "      <th>to_messages</th>\n",
       "      <th>deferral_payments</th>\n",
       "      <th>total_payments</th>\n",
       "      <th>loan_advances</th>\n",
       "      <th>bonus</th>\n",
       "      <th>restricted_stock_deferred</th>\n",
       "      <th>deferred_income</th>\n",
       "      <th>total_stock_value</th>\n",
       "      <th>expenses</th>\n",
       "      <th>from_poi_to_this_person</th>\n",
       "      <th>exercised_stock_options</th>\n",
       "      <th>from_messages</th>\n",
       "      <th>other</th>\n",
       "      <th>from_this_person_to_poi</th>\n",
       "      <th>long_term_incentive</th>\n",
       "      <th>shared_receipt_with_poi</th>\n",
       "      <th>restricted_stock</th>\n",
       "      <th>director_fees</th>\n",
       "    </tr>\n",
       "  </thead>\n",
       "  <tbody>\n",
       "    <tr>\n",
       "      <th>count</th>\n",
       "      <td>9.500000e+01</td>\n",
       "      <td>86.000000</td>\n",
       "      <td>3.900000e+01</td>\n",
       "      <td>1.250000e+02</td>\n",
       "      <td>4.000000e+00</td>\n",
       "      <td>8.200000e+01</td>\n",
       "      <td>1.800000e+01</td>\n",
       "      <td>4.900000e+01</td>\n",
       "      <td>1.260000e+02</td>\n",
       "      <td>9.500000e+01</td>\n",
       "      <td>86.000000</td>\n",
       "      <td>1.020000e+02</td>\n",
       "      <td>86.000000</td>\n",
       "      <td>9.300000e+01</td>\n",
       "      <td>86.000000</td>\n",
       "      <td>6.600000e+01</td>\n",
       "      <td>86.000000</td>\n",
       "      <td>1.100000e+02</td>\n",
       "      <td>1.700000e+01</td>\n",
       "    </tr>\n",
       "    <tr>\n",
       "      <th>mean</th>\n",
       "      <td>5.621943e+05</td>\n",
       "      <td>2073.860465</td>\n",
       "      <td>1.642674e+06</td>\n",
       "      <td>5.081526e+06</td>\n",
       "      <td>4.196250e+07</td>\n",
       "      <td>2.374235e+06</td>\n",
       "      <td>1.664106e+05</td>\n",
       "      <td>-1.140475e+06</td>\n",
       "      <td>6.773957e+06</td>\n",
       "      <td>1.087289e+05</td>\n",
       "      <td>64.895349</td>\n",
       "      <td>5.987054e+06</td>\n",
       "      <td>608.790698</td>\n",
       "      <td>9.190650e+05</td>\n",
       "      <td>41.232558</td>\n",
       "      <td>1.470361e+06</td>\n",
       "      <td>1176.465116</td>\n",
       "      <td>2.321741e+06</td>\n",
       "      <td>1.668049e+05</td>\n",
       "    </tr>\n",
       "    <tr>\n",
       "      <th>std</th>\n",
       "      <td>2.716369e+06</td>\n",
       "      <td>2582.700981</td>\n",
       "      <td>5.161930e+06</td>\n",
       "      <td>2.906172e+07</td>\n",
       "      <td>4.708321e+07</td>\n",
       "      <td>1.071333e+07</td>\n",
       "      <td>4.201494e+06</td>\n",
       "      <td>4.025406e+06</td>\n",
       "      <td>3.895777e+07</td>\n",
       "      <td>5.335348e+05</td>\n",
       "      <td>86.979244</td>\n",
       "      <td>3.106201e+07</td>\n",
       "      <td>1841.033949</td>\n",
       "      <td>4.589253e+06</td>\n",
       "      <td>100.073111</td>\n",
       "      <td>5.942759e+06</td>\n",
       "      <td>1178.317641</td>\n",
       "      <td>1.251828e+07</td>\n",
       "      <td>3.198914e+05</td>\n",
       "    </tr>\n",
       "    <tr>\n",
       "      <th>min</th>\n",
       "      <td>4.770000e+02</td>\n",
       "      <td>57.000000</td>\n",
       "      <td>-1.025000e+05</td>\n",
       "      <td>1.480000e+02</td>\n",
       "      <td>4.000000e+05</td>\n",
       "      <td>7.000000e+04</td>\n",
       "      <td>-7.576788e+06</td>\n",
       "      <td>-2.799289e+07</td>\n",
       "      <td>-4.409300e+04</td>\n",
       "      <td>1.480000e+02</td>\n",
       "      <td>0.000000</td>\n",
       "      <td>3.285000e+03</td>\n",
       "      <td>12.000000</td>\n",
       "      <td>2.000000e+00</td>\n",
       "      <td>0.000000</td>\n",
       "      <td>6.922300e+04</td>\n",
       "      <td>2.000000</td>\n",
       "      <td>-2.604490e+06</td>\n",
       "      <td>3.285000e+03</td>\n",
       "    </tr>\n",
       "    <tr>\n",
       "      <th>25%</th>\n",
       "      <td>2.118160e+05</td>\n",
       "      <td>541.250000</td>\n",
       "      <td>8.157300e+04</td>\n",
       "      <td>3.944750e+05</td>\n",
       "      <td>1.600000e+06</td>\n",
       "      <td>4.312500e+05</td>\n",
       "      <td>-3.896218e+05</td>\n",
       "      <td>-6.948620e+05</td>\n",
       "      <td>4.945102e+05</td>\n",
       "      <td>2.261400e+04</td>\n",
       "      <td>10.000000</td>\n",
       "      <td>5.278862e+05</td>\n",
       "      <td>22.750000</td>\n",
       "      <td>1.215000e+03</td>\n",
       "      <td>1.000000</td>\n",
       "      <td>2.812500e+05</td>\n",
       "      <td>249.750000</td>\n",
       "      <td>2.540180e+05</td>\n",
       "      <td>9.878400e+04</td>\n",
       "    </tr>\n",
       "    <tr>\n",
       "      <th>50%</th>\n",
       "      <td>2.599960e+05</td>\n",
       "      <td>1211.000000</td>\n",
       "      <td>2.274490e+05</td>\n",
       "      <td>1.101393e+06</td>\n",
       "      <td>4.176250e+07</td>\n",
       "      <td>7.693750e+05</td>\n",
       "      <td>-1.469750e+05</td>\n",
       "      <td>-1.597920e+05</td>\n",
       "      <td>1.102872e+06</td>\n",
       "      <td>4.695000e+04</td>\n",
       "      <td>35.000000</td>\n",
       "      <td>1.310814e+06</td>\n",
       "      <td>41.000000</td>\n",
       "      <td>5.238200e+04</td>\n",
       "      <td>8.000000</td>\n",
       "      <td>4.420350e+05</td>\n",
       "      <td>740.500000</td>\n",
       "      <td>4.517400e+05</td>\n",
       "      <td>1.085790e+05</td>\n",
       "    </tr>\n",
       "    <tr>\n",
       "      <th>75%</th>\n",
       "      <td>3.121170e+05</td>\n",
       "      <td>2634.750000</td>\n",
       "      <td>1.002672e+06</td>\n",
       "      <td>2.093263e+06</td>\n",
       "      <td>8.212500e+07</td>\n",
       "      <td>1.200000e+06</td>\n",
       "      <td>-7.500975e+04</td>\n",
       "      <td>-3.834600e+04</td>\n",
       "      <td>2.949847e+06</td>\n",
       "      <td>7.995250e+04</td>\n",
       "      <td>72.250000</td>\n",
       "      <td>2.547724e+06</td>\n",
       "      <td>145.500000</td>\n",
       "      <td>3.620960e+05</td>\n",
       "      <td>24.750000</td>\n",
       "      <td>9.386720e+05</td>\n",
       "      <td>1888.250000</td>\n",
       "      <td>1.002370e+06</td>\n",
       "      <td>1.137840e+05</td>\n",
       "    </tr>\n",
       "    <tr>\n",
       "      <th>max</th>\n",
       "      <td>2.670423e+07</td>\n",
       "      <td>15149.000000</td>\n",
       "      <td>3.208340e+07</td>\n",
       "      <td>3.098866e+08</td>\n",
       "      <td>8.392500e+07</td>\n",
       "      <td>9.734362e+07</td>\n",
       "      <td>1.545629e+07</td>\n",
       "      <td>-8.330000e+02</td>\n",
       "      <td>4.345095e+08</td>\n",
       "      <td>5.235198e+06</td>\n",
       "      <td>528.000000</td>\n",
       "      <td>3.117640e+08</td>\n",
       "      <td>14368.000000</td>\n",
       "      <td>4.266759e+07</td>\n",
       "      <td>609.000000</td>\n",
       "      <td>4.852193e+07</td>\n",
       "      <td>5521.000000</td>\n",
       "      <td>1.303223e+08</td>\n",
       "      <td>1.398517e+06</td>\n",
       "    </tr>\n",
       "  </tbody>\n",
       "</table>\n",
       "</div>"
      ],
      "text/plain": [
       "             salary   to_messages  deferral_payments  total_payments  \\\n",
       "count  9.500000e+01     86.000000       3.900000e+01    1.250000e+02   \n",
       "mean   5.621943e+05   2073.860465       1.642674e+06    5.081526e+06   \n",
       "std    2.716369e+06   2582.700981       5.161930e+06    2.906172e+07   \n",
       "min    4.770000e+02     57.000000      -1.025000e+05    1.480000e+02   \n",
       "25%    2.118160e+05    541.250000       8.157300e+04    3.944750e+05   \n",
       "50%    2.599960e+05   1211.000000       2.274490e+05    1.101393e+06   \n",
       "75%    3.121170e+05   2634.750000       1.002672e+06    2.093263e+06   \n",
       "max    2.670423e+07  15149.000000       3.208340e+07    3.098866e+08   \n",
       "\n",
       "       loan_advances         bonus  restricted_stock_deferred  \\\n",
       "count   4.000000e+00  8.200000e+01               1.800000e+01   \n",
       "mean    4.196250e+07  2.374235e+06               1.664106e+05   \n",
       "std     4.708321e+07  1.071333e+07               4.201494e+06   \n",
       "min     4.000000e+05  7.000000e+04              -7.576788e+06   \n",
       "25%     1.600000e+06  4.312500e+05              -3.896218e+05   \n",
       "50%     4.176250e+07  7.693750e+05              -1.469750e+05   \n",
       "75%     8.212500e+07  1.200000e+06              -7.500975e+04   \n",
       "max     8.392500e+07  9.734362e+07               1.545629e+07   \n",
       "\n",
       "       deferred_income  total_stock_value      expenses  \\\n",
       "count     4.900000e+01       1.260000e+02  9.500000e+01   \n",
       "mean     -1.140475e+06       6.773957e+06  1.087289e+05   \n",
       "std       4.025406e+06       3.895777e+07  5.335348e+05   \n",
       "min      -2.799289e+07      -4.409300e+04  1.480000e+02   \n",
       "25%      -6.948620e+05       4.945102e+05  2.261400e+04   \n",
       "50%      -1.597920e+05       1.102872e+06  4.695000e+04   \n",
       "75%      -3.834600e+04       2.949847e+06  7.995250e+04   \n",
       "max      -8.330000e+02       4.345095e+08  5.235198e+06   \n",
       "\n",
       "       from_poi_to_this_person  exercised_stock_options  from_messages  \\\n",
       "count                86.000000             1.020000e+02      86.000000   \n",
       "mean                 64.895349             5.987054e+06     608.790698   \n",
       "std                  86.979244             3.106201e+07    1841.033949   \n",
       "min                   0.000000             3.285000e+03      12.000000   \n",
       "25%                  10.000000             5.278862e+05      22.750000   \n",
       "50%                  35.000000             1.310814e+06      41.000000   \n",
       "75%                  72.250000             2.547724e+06     145.500000   \n",
       "max                 528.000000             3.117640e+08   14368.000000   \n",
       "\n",
       "              other  from_this_person_to_poi  long_term_incentive  \\\n",
       "count  9.300000e+01                86.000000         6.600000e+01   \n",
       "mean   9.190650e+05                41.232558         1.470361e+06   \n",
       "std    4.589253e+06               100.073111         5.942759e+06   \n",
       "min    2.000000e+00                 0.000000         6.922300e+04   \n",
       "25%    1.215000e+03                 1.000000         2.812500e+05   \n",
       "50%    5.238200e+04                 8.000000         4.420350e+05   \n",
       "75%    3.620960e+05                24.750000         9.386720e+05   \n",
       "max    4.266759e+07               609.000000         4.852193e+07   \n",
       "\n",
       "       shared_receipt_with_poi  restricted_stock  director_fees  \n",
       "count                86.000000      1.100000e+02   1.700000e+01  \n",
       "mean               1176.465116      2.321741e+06   1.668049e+05  \n",
       "std                1178.317641      1.251828e+07   3.198914e+05  \n",
       "min                   2.000000     -2.604490e+06   3.285000e+03  \n",
       "25%                 249.750000      2.540180e+05   9.878400e+04  \n",
       "50%                 740.500000      4.517400e+05   1.085790e+05  \n",
       "75%                1888.250000      1.002370e+06   1.137840e+05  \n",
       "max                5521.000000      1.303223e+08   1.398517e+06  "
      ]
     },
     "execution_count": 6,
     "metadata": {},
     "output_type": "execute_result"
    }
   ],
   "source": [
    "data.describe()"
   ]
  },
  {
   "cell_type": "markdown",
   "metadata": {},
   "source": [
    "Now that the columns are numerical we can check for the outliers\n",
    "\n",
    "We see that the max value for salary is very large"
   ]
  },
  {
   "cell_type": "markdown",
   "metadata": {},
   "source": [
    "### Outliers (Question 1)\n",
    "\n",
    "In the below section you can see that we have total value as outlier. Also, SKILLING JEFFREY K and top level executives are clear outliers. I removed the total value but keeping the other values of data as they are important to our evaluation"
   ]
  },
  {
   "cell_type": "code",
   "execution_count": 7,
   "metadata": {},
   "outputs": [
    {
     "data": {
      "text/plain": [
       "TOTAL                 26704229.0\n",
       "SKILLING JEFFREY K     1111258.0\n",
       "LAY KENNETH L          1072321.0\n",
       "FREVERT MARK A         1060932.0\n",
       "PICKERING MARK R        655037.0\n",
       "Name: salary, dtype: float64"
      ]
     },
     "execution_count": 7,
     "metadata": {},
     "output_type": "execute_result"
    }
   ],
   "source": [
    "data.salary.nlargest(5)"
   ]
  },
  {
   "cell_type": "code",
   "execution_count": 8,
   "metadata": {},
   "outputs": [],
   "source": [
    "data = data.drop(data.salary.idxmax())"
   ]
  },
  {
   "cell_type": "code",
   "execution_count": 9,
   "metadata": {},
   "outputs": [
    {
     "data": {
      "text/html": [
       "<div>\n",
       "<style scoped>\n",
       "    .dataframe tbody tr th:only-of-type {\n",
       "        vertical-align: middle;\n",
       "    }\n",
       "\n",
       "    .dataframe tbody tr th {\n",
       "        vertical-align: top;\n",
       "    }\n",
       "\n",
       "    .dataframe thead th {\n",
       "        text-align: right;\n",
       "    }\n",
       "</style>\n",
       "<table border=\"1\" class=\"dataframe\">\n",
       "  <thead>\n",
       "    <tr style=\"text-align: right;\">\n",
       "      <th></th>\n",
       "      <th>salary</th>\n",
       "      <th>to_messages</th>\n",
       "      <th>deferral_payments</th>\n",
       "      <th>total_payments</th>\n",
       "      <th>loan_advances</th>\n",
       "      <th>bonus</th>\n",
       "      <th>restricted_stock_deferred</th>\n",
       "      <th>deferred_income</th>\n",
       "      <th>total_stock_value</th>\n",
       "      <th>expenses</th>\n",
       "      <th>from_poi_to_this_person</th>\n",
       "      <th>exercised_stock_options</th>\n",
       "      <th>from_messages</th>\n",
       "      <th>other</th>\n",
       "      <th>from_this_person_to_poi</th>\n",
       "      <th>long_term_incentive</th>\n",
       "      <th>shared_receipt_with_poi</th>\n",
       "      <th>restricted_stock</th>\n",
       "      <th>director_fees</th>\n",
       "    </tr>\n",
       "  </thead>\n",
       "  <tbody>\n",
       "    <tr>\n",
       "      <th>count</th>\n",
       "      <td>9.400000e+01</td>\n",
       "      <td>86.000000</td>\n",
       "      <td>3.800000e+01</td>\n",
       "      <td>1.240000e+02</td>\n",
       "      <td>3.000000e+00</td>\n",
       "      <td>8.100000e+01</td>\n",
       "      <td>1.700000e+01</td>\n",
       "      <td>4.800000e+01</td>\n",
       "      <td>1.250000e+02</td>\n",
       "      <td>94.000000</td>\n",
       "      <td>86.000000</td>\n",
       "      <td>1.010000e+02</td>\n",
       "      <td>86.000000</td>\n",
       "      <td>9.200000e+01</td>\n",
       "      <td>86.000000</td>\n",
       "      <td>6.500000e+01</td>\n",
       "      <td>86.000000</td>\n",
       "      <td>1.090000e+02</td>\n",
       "      <td>16.000000</td>\n",
       "    </tr>\n",
       "    <tr>\n",
       "      <th>mean</th>\n",
       "      <td>2.840875e+05</td>\n",
       "      <td>2073.860465</td>\n",
       "      <td>8.416025e+05</td>\n",
       "      <td>2.623421e+06</td>\n",
       "      <td>2.797500e+07</td>\n",
       "      <td>1.201773e+06</td>\n",
       "      <td>6.218928e+05</td>\n",
       "      <td>-5.810498e+05</td>\n",
       "      <td>3.352073e+06</td>\n",
       "      <td>54192.010638</td>\n",
       "      <td>64.895349</td>\n",
       "      <td>2.959559e+06</td>\n",
       "      <td>608.790698</td>\n",
       "      <td>4.652767e+05</td>\n",
       "      <td>41.232558</td>\n",
       "      <td>7.464912e+05</td>\n",
       "      <td>1176.465116</td>\n",
       "      <td>1.147424e+06</td>\n",
       "      <td>89822.875000</td>\n",
       "    </tr>\n",
       "    <tr>\n",
       "      <th>std</th>\n",
       "      <td>1.771311e+05</td>\n",
       "      <td>2582.700981</td>\n",
       "      <td>1.289323e+06</td>\n",
       "      <td>9.488106e+06</td>\n",
       "      <td>4.638256e+07</td>\n",
       "      <td>1.441679e+06</td>\n",
       "      <td>3.845528e+06</td>\n",
       "      <td>9.420764e+05</td>\n",
       "      <td>6.532883e+06</td>\n",
       "      <td>46108.377454</td>\n",
       "      <td>86.979244</td>\n",
       "      <td>5.499450e+06</td>\n",
       "      <td>1841.033949</td>\n",
       "      <td>1.389719e+06</td>\n",
       "      <td>100.073111</td>\n",
       "      <td>8.629174e+05</td>\n",
       "      <td>1178.317641</td>\n",
       "      <td>2.249770e+06</td>\n",
       "      <td>41112.700735</td>\n",
       "    </tr>\n",
       "    <tr>\n",
       "      <th>min</th>\n",
       "      <td>4.770000e+02</td>\n",
       "      <td>57.000000</td>\n",
       "      <td>-1.025000e+05</td>\n",
       "      <td>1.480000e+02</td>\n",
       "      <td>4.000000e+05</td>\n",
       "      <td>7.000000e+04</td>\n",
       "      <td>-1.787380e+06</td>\n",
       "      <td>-3.504386e+06</td>\n",
       "      <td>-4.409300e+04</td>\n",
       "      <td>148.000000</td>\n",
       "      <td>0.000000</td>\n",
       "      <td>3.285000e+03</td>\n",
       "      <td>12.000000</td>\n",
       "      <td>2.000000e+00</td>\n",
       "      <td>0.000000</td>\n",
       "      <td>6.922300e+04</td>\n",
       "      <td>2.000000</td>\n",
       "      <td>-2.604490e+06</td>\n",
       "      <td>3285.000000</td>\n",
       "    </tr>\n",
       "    <tr>\n",
       "      <th>25%</th>\n",
       "      <td>2.118020e+05</td>\n",
       "      <td>541.250000</td>\n",
       "      <td>7.964450e+04</td>\n",
       "      <td>3.863802e+05</td>\n",
       "      <td>1.200000e+06</td>\n",
       "      <td>4.250000e+05</td>\n",
       "      <td>-3.298250e+05</td>\n",
       "      <td>-6.112092e+05</td>\n",
       "      <td>4.941360e+05</td>\n",
       "      <td>22479.000000</td>\n",
       "      <td>10.000000</td>\n",
       "      <td>5.067650e+05</td>\n",
       "      <td>22.750000</td>\n",
       "      <td>1.209000e+03</td>\n",
       "      <td>1.000000</td>\n",
       "      <td>2.750000e+05</td>\n",
       "      <td>249.750000</td>\n",
       "      <td>2.520550e+05</td>\n",
       "      <td>83674.500000</td>\n",
       "    </tr>\n",
       "    <tr>\n",
       "      <th>50%</th>\n",
       "      <td>2.587410e+05</td>\n",
       "      <td>1211.000000</td>\n",
       "      <td>2.210635e+05</td>\n",
       "      <td>1.100246e+06</td>\n",
       "      <td>2.000000e+06</td>\n",
       "      <td>7.500000e+05</td>\n",
       "      <td>-1.402640e+05</td>\n",
       "      <td>-1.519270e+05</td>\n",
       "      <td>1.095040e+06</td>\n",
       "      <td>46547.500000</td>\n",
       "      <td>35.000000</td>\n",
       "      <td>1.297049e+06</td>\n",
       "      <td>41.000000</td>\n",
       "      <td>5.198450e+04</td>\n",
       "      <td>8.000000</td>\n",
       "      <td>4.221580e+05</td>\n",
       "      <td>740.500000</td>\n",
       "      <td>4.410960e+05</td>\n",
       "      <td>106164.500000</td>\n",
       "    </tr>\n",
       "    <tr>\n",
       "      <th>75%</th>\n",
       "      <td>3.086065e+05</td>\n",
       "      <td>2634.750000</td>\n",
       "      <td>8.672112e+05</td>\n",
       "      <td>2.084663e+06</td>\n",
       "      <td>4.176250e+07</td>\n",
       "      <td>1.200000e+06</td>\n",
       "      <td>-7.241900e+04</td>\n",
       "      <td>-3.792600e+04</td>\n",
       "      <td>2.606763e+06</td>\n",
       "      <td>78408.500000</td>\n",
       "      <td>72.250000</td>\n",
       "      <td>2.542813e+06</td>\n",
       "      <td>145.500000</td>\n",
       "      <td>3.575772e+05</td>\n",
       "      <td>24.750000</td>\n",
       "      <td>8.318090e+05</td>\n",
       "      <td>1888.250000</td>\n",
       "      <td>9.850320e+05</td>\n",
       "      <td>112815.000000</td>\n",
       "    </tr>\n",
       "    <tr>\n",
       "      <th>max</th>\n",
       "      <td>1.111258e+06</td>\n",
       "      <td>15149.000000</td>\n",
       "      <td>6.426990e+06</td>\n",
       "      <td>1.035598e+08</td>\n",
       "      <td>8.152500e+07</td>\n",
       "      <td>8.000000e+06</td>\n",
       "      <td>1.545629e+07</td>\n",
       "      <td>-8.330000e+02</td>\n",
       "      <td>4.911008e+07</td>\n",
       "      <td>228763.000000</td>\n",
       "      <td>528.000000</td>\n",
       "      <td>3.434838e+07</td>\n",
       "      <td>14368.000000</td>\n",
       "      <td>1.035973e+07</td>\n",
       "      <td>609.000000</td>\n",
       "      <td>5.145434e+06</td>\n",
       "      <td>5521.000000</td>\n",
       "      <td>1.476169e+07</td>\n",
       "      <td>137864.000000</td>\n",
       "    </tr>\n",
       "  </tbody>\n",
       "</table>\n",
       "</div>"
      ],
      "text/plain": [
       "             salary   to_messages  deferral_payments  total_payments  \\\n",
       "count  9.400000e+01     86.000000       3.800000e+01    1.240000e+02   \n",
       "mean   2.840875e+05   2073.860465       8.416025e+05    2.623421e+06   \n",
       "std    1.771311e+05   2582.700981       1.289323e+06    9.488106e+06   \n",
       "min    4.770000e+02     57.000000      -1.025000e+05    1.480000e+02   \n",
       "25%    2.118020e+05    541.250000       7.964450e+04    3.863802e+05   \n",
       "50%    2.587410e+05   1211.000000       2.210635e+05    1.100246e+06   \n",
       "75%    3.086065e+05   2634.750000       8.672112e+05    2.084663e+06   \n",
       "max    1.111258e+06  15149.000000       6.426990e+06    1.035598e+08   \n",
       "\n",
       "       loan_advances         bonus  restricted_stock_deferred  \\\n",
       "count   3.000000e+00  8.100000e+01               1.700000e+01   \n",
       "mean    2.797500e+07  1.201773e+06               6.218928e+05   \n",
       "std     4.638256e+07  1.441679e+06               3.845528e+06   \n",
       "min     4.000000e+05  7.000000e+04              -1.787380e+06   \n",
       "25%     1.200000e+06  4.250000e+05              -3.298250e+05   \n",
       "50%     2.000000e+06  7.500000e+05              -1.402640e+05   \n",
       "75%     4.176250e+07  1.200000e+06              -7.241900e+04   \n",
       "max     8.152500e+07  8.000000e+06               1.545629e+07   \n",
       "\n",
       "       deferred_income  total_stock_value       expenses  \\\n",
       "count     4.800000e+01       1.250000e+02      94.000000   \n",
       "mean     -5.810498e+05       3.352073e+06   54192.010638   \n",
       "std       9.420764e+05       6.532883e+06   46108.377454   \n",
       "min      -3.504386e+06      -4.409300e+04     148.000000   \n",
       "25%      -6.112092e+05       4.941360e+05   22479.000000   \n",
       "50%      -1.519270e+05       1.095040e+06   46547.500000   \n",
       "75%      -3.792600e+04       2.606763e+06   78408.500000   \n",
       "max      -8.330000e+02       4.911008e+07  228763.000000   \n",
       "\n",
       "       from_poi_to_this_person  exercised_stock_options  from_messages  \\\n",
       "count                86.000000             1.010000e+02      86.000000   \n",
       "mean                 64.895349             2.959559e+06     608.790698   \n",
       "std                  86.979244             5.499450e+06    1841.033949   \n",
       "min                   0.000000             3.285000e+03      12.000000   \n",
       "25%                  10.000000             5.067650e+05      22.750000   \n",
       "50%                  35.000000             1.297049e+06      41.000000   \n",
       "75%                  72.250000             2.542813e+06     145.500000   \n",
       "max                 528.000000             3.434838e+07   14368.000000   \n",
       "\n",
       "              other  from_this_person_to_poi  long_term_incentive  \\\n",
       "count  9.200000e+01                86.000000         6.500000e+01   \n",
       "mean   4.652767e+05                41.232558         7.464912e+05   \n",
       "std    1.389719e+06               100.073111         8.629174e+05   \n",
       "min    2.000000e+00                 0.000000         6.922300e+04   \n",
       "25%    1.209000e+03                 1.000000         2.750000e+05   \n",
       "50%    5.198450e+04                 8.000000         4.221580e+05   \n",
       "75%    3.575772e+05                24.750000         8.318090e+05   \n",
       "max    1.035973e+07               609.000000         5.145434e+06   \n",
       "\n",
       "       shared_receipt_with_poi  restricted_stock  director_fees  \n",
       "count                86.000000      1.090000e+02      16.000000  \n",
       "mean               1176.465116      1.147424e+06   89822.875000  \n",
       "std                1178.317641      2.249770e+06   41112.700735  \n",
       "min                   2.000000     -2.604490e+06    3285.000000  \n",
       "25%                 249.750000      2.520550e+05   83674.500000  \n",
       "50%                 740.500000      4.410960e+05  106164.500000  \n",
       "75%                1888.250000      9.850320e+05  112815.000000  \n",
       "max                5521.000000      1.476169e+07  137864.000000  "
      ]
     },
     "execution_count": 9,
     "metadata": {},
     "output_type": "execute_result"
    }
   ],
   "source": [
    "data.describe()"
   ]
  },
  {
   "cell_type": "markdown",
   "metadata": {},
   "source": [
    "Let plot a graph between salary and bonus to see how the bonuses are distributed"
   ]
  },
  {
   "cell_type": "code",
   "execution_count": 10,
   "metadata": {},
   "outputs": [
    {
     "data": {
      "text/plain": [
       "Text(0,0.5,'bonus')"
      ]
     },
     "execution_count": 10,
     "metadata": {},
     "output_type": "execute_result"
    },
    {
     "data": {
      "image/png": "[encoded data removed]",
      "text/plain": [
       "<Figure size 432x288 with 1 Axes>"
      ]
     },
     "metadata": {},
     "output_type": "display_data"
    }
   ],
   "source": [
    "plt.scatter(x=data.salary, y=data.bonus, c=data.poi, alpha=0.5)\n",
    "plt.xlabel(\"salary\")\n",
    "plt.ylabel(\"bonus\")"
   ]
  },
  {
   "cell_type": "markdown",
   "metadata": {},
   "source": [
    "Next I want to check the emails. We have four features 'to_messages', 'from_poi_to_this_person', 'from_messages', 'from_this_person_to_poi' and 'shared_receipt_with_poi'"
   ]
  },
  {
   "cell_type": "markdown",
   "metadata": {},
   "source": [
    "### New features and Missing Values (Question 2)"
   ]
  },
  {
   "cell_type": "code",
   "execution_count": 11,
   "metadata": {},
   "outputs": [
    {
     "data": {
      "text/html": [
       "<div>\n",
       "<style scoped>\n",
       "    .dataframe tbody tr th:only-of-type {\n",
       "        vertical-align: middle;\n",
       "    }\n",
       "\n",
       "    .dataframe tbody tr th {\n",
       "        vertical-align: top;\n",
       "    }\n",
       "\n",
       "    .dataframe thead th {\n",
       "        text-align: right;\n",
       "    }\n",
       "</style>\n",
       "<table border=\"1\" class=\"dataframe\">\n",
       "  <thead>\n",
       "    <tr style=\"text-align: right;\">\n",
       "      <th></th>\n",
       "      <th>to_messages</th>\n",
       "      <th>from_poi_to_this_person</th>\n",
       "      <th>from_messages</th>\n",
       "      <th>from_this_person_to_poi</th>\n",
       "      <th>shared_receipt_with_poi</th>\n",
       "    </tr>\n",
       "  </thead>\n",
       "  <tbody>\n",
       "    <tr>\n",
       "      <th>count</th>\n",
       "      <td>86.000000</td>\n",
       "      <td>86.000000</td>\n",
       "      <td>86.000000</td>\n",
       "      <td>86.000000</td>\n",
       "      <td>86.000000</td>\n",
       "    </tr>\n",
       "    <tr>\n",
       "      <th>mean</th>\n",
       "      <td>2073.860465</td>\n",
       "      <td>64.895349</td>\n",
       "      <td>608.790698</td>\n",
       "      <td>41.232558</td>\n",
       "      <td>1176.465116</td>\n",
       "    </tr>\n",
       "    <tr>\n",
       "      <th>std</th>\n",
       "      <td>2582.700981</td>\n",
       "      <td>86.979244</td>\n",
       "      <td>1841.033949</td>\n",
       "      <td>100.073111</td>\n",
       "      <td>1178.317641</td>\n",
       "    </tr>\n",
       "    <tr>\n",
       "      <th>min</th>\n",
       "      <td>57.000000</td>\n",
       "      <td>0.000000</td>\n",
       "      <td>12.000000</td>\n",
       "      <td>0.000000</td>\n",
       "      <td>2.000000</td>\n",
       "    </tr>\n",
       "    <tr>\n",
       "      <th>25%</th>\n",
       "      <td>541.250000</td>\n",
       "      <td>10.000000</td>\n",
       "      <td>22.750000</td>\n",
       "      <td>1.000000</td>\n",
       "      <td>249.750000</td>\n",
       "    </tr>\n",
       "    <tr>\n",
       "      <th>50%</th>\n",
       "      <td>1211.000000</td>\n",
       "      <td>35.000000</td>\n",
       "      <td>41.000000</td>\n",
       "      <td>8.000000</td>\n",
       "      <td>740.500000</td>\n",
       "    </tr>\n",
       "    <tr>\n",
       "      <th>75%</th>\n",
       "      <td>2634.750000</td>\n",
       "      <td>72.250000</td>\n",
       "      <td>145.500000</td>\n",
       "      <td>24.750000</td>\n",
       "      <td>1888.250000</td>\n",
       "    </tr>\n",
       "    <tr>\n",
       "      <th>max</th>\n",
       "      <td>15149.000000</td>\n",
       "      <td>528.000000</td>\n",
       "      <td>14368.000000</td>\n",
       "      <td>609.000000</td>\n",
       "      <td>5521.000000</td>\n",
       "    </tr>\n",
       "  </tbody>\n",
       "</table>\n",
       "</div>"
      ],
      "text/plain": [
       "        to_messages  from_poi_to_this_person  from_messages  \\\n",
       "count     86.000000                86.000000      86.000000   \n",
       "mean    2073.860465                64.895349     608.790698   \n",
       "std     2582.700981                86.979244    1841.033949   \n",
       "min       57.000000                 0.000000      12.000000   \n",
       "25%      541.250000                10.000000      22.750000   \n",
       "50%     1211.000000                35.000000      41.000000   \n",
       "75%     2634.750000                72.250000     145.500000   \n",
       "max    15149.000000               528.000000   14368.000000   \n",
       "\n",
       "       from_this_person_to_poi  shared_receipt_with_poi  \n",
       "count                86.000000                86.000000  \n",
       "mean                 41.232558              1176.465116  \n",
       "std                 100.073111              1178.317641  \n",
       "min                   0.000000                 2.000000  \n",
       "25%                   1.000000               249.750000  \n",
       "50%                   8.000000               740.500000  \n",
       "75%                  24.750000              1888.250000  \n",
       "max                 609.000000              5521.000000  "
      ]
     },
     "execution_count": 11,
     "metadata": {},
     "output_type": "execute_result"
    }
   ],
   "source": [
    "email_features = ['to_messages', 'from_poi_to_this_person', 'from_messages', 'from_this_person_to_poi', 'shared_receipt_with_poi']\n",
    "data[email_features].describe()"
   ]
  },
  {
   "cell_type": "markdown",
   "metadata": {},
   "source": [
    "Now Since this numbers can vary from person to person. In my opinon it is better to use proportions of these numbers.\n",
    "\n",
    "For proportion of msg sent to poi = from_this_person_to_poi/to_messages\n",
    "\n",
    "and proportion of msg received from poi = from_poi_to_this_person/from_messages\n",
    "\n",
    "shared receipt proportion = shared_receipt_with_poi/from_messages"
   ]
  },
  {
   "cell_type": "code",
   "execution_count": 12,
   "metadata": {},
   "outputs": [],
   "source": [
    "data['from_this_person_to_poi_pp'] = data.from_this_person_to_poi/ data.to_messages\n",
    "data['from_poi_to_this_person_pp'] = data.from_poi_to_this_person/ data.from_messages\n",
    "data['shared_receipt_with_poi_pp'] = data.shared_receipt_with_poi/ data.from_messages"
   ]
  },
  {
   "cell_type": "markdown",
   "metadata": {},
   "source": [
    "Since there are many NA values in this data, I am replacing them with 0.0 values. Also, since we used email feautres to create new ones, we will drop those fetures from data"
   ]
  },
  {
   "cell_type": "code",
   "execution_count": 13,
   "metadata": {},
   "outputs": [],
   "source": [
    "data=data.fillna(0.0)\n",
    "drop_features = ['poi', 'email_address', 'shared_receipt_with_poi','from_poi_to_this_person',\n",
    "                       'from_this_person_to_poi', 'to_messages', 'from_messages']\n",
    "y = data.poi.values\n",
    "X = data.drop(columns=drop_features).values"
   ]
  },
  {
   "cell_type": "markdown",
   "metadata": {},
   "source": [
    "### Feature Selection (Question 2)\n",
    "\n",
    "I am using RFE selection to find the most important features from data with total number of 6 features"
   ]
  },
  {
   "cell_type": "code",
   "execution_count": 14,
   "metadata": {},
   "outputs": [],
   "source": [
    "from sklearn.feature_selection import RFE\n",
    "from sklearn.ensemble import RandomForestClassifier\n",
    "model = RandomForestClassifier(random_state=5422)\n",
    "rfe = RFE(model, 6)\n",
    "fit = rfe.fit(X, y)"
   ]
  },
  {
   "cell_type": "code",
   "execution_count": 15,
   "metadata": {},
   "outputs": [
    {
     "data": {
      "text/html": [
       "<div>\n",
       "<style scoped>\n",
       "    .dataframe tbody tr th:only-of-type {\n",
       "        vertical-align: middle;\n",
       "    }\n",
       "\n",
       "    .dataframe tbody tr th {\n",
       "        vertical-align: top;\n",
       "    }\n",
       "\n",
       "    .dataframe thead th {\n",
       "        text-align: right;\n",
       "    }\n",
       "</style>\n",
       "<table border=\"1\" class=\"dataframe\">\n",
       "  <thead>\n",
       "    <tr style=\"text-align: right;\">\n",
       "      <th></th>\n",
       "      <th>col</th>\n",
       "      <th>suppot</th>\n",
       "      <th>ranking</th>\n",
       "    </tr>\n",
       "  </thead>\n",
       "  <tbody>\n",
       "    <tr>\n",
       "      <th>0</th>\n",
       "      <td>salary</td>\n",
       "      <td>False</td>\n",
       "      <td>7</td>\n",
       "    </tr>\n",
       "    <tr>\n",
       "      <th>1</th>\n",
       "      <td>deferral_payments</td>\n",
       "      <td>False</td>\n",
       "      <td>11</td>\n",
       "    </tr>\n",
       "    <tr>\n",
       "      <th>2</th>\n",
       "      <td>total_payments</td>\n",
       "      <td>False</td>\n",
       "      <td>3</td>\n",
       "    </tr>\n",
       "    <tr>\n",
       "      <th>3</th>\n",
       "      <td>loan_advances</td>\n",
       "      <td>False</td>\n",
       "      <td>10</td>\n",
       "    </tr>\n",
       "    <tr>\n",
       "      <th>4</th>\n",
       "      <td>bonus</td>\n",
       "      <td>True</td>\n",
       "      <td>1</td>\n",
       "    </tr>\n",
       "    <tr>\n",
       "      <th>5</th>\n",
       "      <td>restricted_stock_deferred</td>\n",
       "      <td>False</td>\n",
       "      <td>9</td>\n",
       "    </tr>\n",
       "    <tr>\n",
       "      <th>6</th>\n",
       "      <td>deferred_income</td>\n",
       "      <td>False</td>\n",
       "      <td>4</td>\n",
       "    </tr>\n",
       "    <tr>\n",
       "      <th>7</th>\n",
       "      <td>total_stock_value</td>\n",
       "      <td>True</td>\n",
       "      <td>1</td>\n",
       "    </tr>\n",
       "    <tr>\n",
       "      <th>8</th>\n",
       "      <td>expenses</td>\n",
       "      <td>False</td>\n",
       "      <td>2</td>\n",
       "    </tr>\n",
       "    <tr>\n",
       "      <th>9</th>\n",
       "      <td>exercised_stock_options</td>\n",
       "      <td>True</td>\n",
       "      <td>1</td>\n",
       "    </tr>\n",
       "    <tr>\n",
       "      <th>10</th>\n",
       "      <td>other</td>\n",
       "      <td>True</td>\n",
       "      <td>1</td>\n",
       "    </tr>\n",
       "    <tr>\n",
       "      <th>11</th>\n",
       "      <td>long_term_incentive</td>\n",
       "      <td>True</td>\n",
       "      <td>1</td>\n",
       "    </tr>\n",
       "    <tr>\n",
       "      <th>12</th>\n",
       "      <td>restricted_stock</td>\n",
       "      <td>True</td>\n",
       "      <td>1</td>\n",
       "    </tr>\n",
       "    <tr>\n",
       "      <th>13</th>\n",
       "      <td>director_fees</td>\n",
       "      <td>False</td>\n",
       "      <td>12</td>\n",
       "    </tr>\n",
       "    <tr>\n",
       "      <th>14</th>\n",
       "      <td>from_this_person_to_poi_pp</td>\n",
       "      <td>False</td>\n",
       "      <td>6</td>\n",
       "    </tr>\n",
       "    <tr>\n",
       "      <th>15</th>\n",
       "      <td>from_poi_to_this_person_pp</td>\n",
       "      <td>False</td>\n",
       "      <td>5</td>\n",
       "    </tr>\n",
       "    <tr>\n",
       "      <th>16</th>\n",
       "      <td>shared_receipt_with_poi_pp</td>\n",
       "      <td>False</td>\n",
       "      <td>8</td>\n",
       "    </tr>\n",
       "  </tbody>\n",
       "</table>\n",
       "</div>"
      ],
      "text/plain": [
       "                           col  suppot  ranking\n",
       "0                       salary   False        7\n",
       "1            deferral_payments   False       11\n",
       "2               total_payments   False        3\n",
       "3                loan_advances   False       10\n",
       "4                        bonus    True        1\n",
       "5    restricted_stock_deferred   False        9\n",
       "6              deferred_income   False        4\n",
       "7            total_stock_value    True        1\n",
       "8                     expenses   False        2\n",
       "9      exercised_stock_options    True        1\n",
       "10                       other    True        1\n",
       "11         long_term_incentive    True        1\n",
       "12            restricted_stock    True        1\n",
       "13               director_fees   False       12\n",
       "14  from_this_person_to_poi_pp   False        6\n",
       "15  from_poi_to_this_person_pp   False        5\n",
       "16  shared_receipt_with_poi_pp   False        8"
      ]
     },
     "execution_count": 15,
     "metadata": {},
     "output_type": "execute_result"
    }
   ],
   "source": [
    "features = pd.DataFrame({\"col\":list(data.drop(columns=drop_features).columns), \n",
    "                   \"suppot\": fit.support_,\n",
    "                   \"ranking\": fit.ranking_})\n",
    "features"
   ]
  },
  {
   "cell_type": "markdown",
   "metadata": {},
   "source": [
    "Based on Rcursive Feature Elimination using the RandomForest Classifier the featur list is :\n",
    "\n",
    "'bonus', 'total_paymets', 'expenses', 'from_this_person_to_poi_pp', 'from_poi_to_this_person_pp' and 'exercised_stock_options'"
   ]
  },
  {
   "cell_type": "markdown",
   "metadata": {},
   "source": [
    "Here we see that 2 of our new features are in the top list. This shows that our new features are important to finding POIs\n",
    "\n",
    "Since I am using tree based clasifiers, they don't usually require the feature scaling, so I am skipping that step."
   ]
  },
  {
   "cell_type": "markdown",
   "metadata": {},
   "source": [
    "### Algorithm tuning (Question 3 & 4)\n",
    "\n",
    "I decided to used two algo \n",
    "1. RandomForestClassifier\n",
    "2. AdaBoostClassifier\n",
    "\n",
    "and then compare these two for accuracy"
   ]
  },
  {
   "cell_type": "markdown",
   "metadata": {},
   "source": [
    "We are going to perform feature tuning on the alorithm parameters. This basically means that we are going to chane the parameters and find out the best combination for our model. After getting best combination for each algorithm, we will comapre their performance with each other and then pick the best algo with best parameters for model."
   ]
  },
  {
   "cell_type": "code",
   "execution_count": 16,
   "metadata": {},
   "outputs": [],
   "source": [
    "data = data[['bonus', 'total_payments', 'expenses', \n",
    "             'from_this_person_to_poi_pp', 'from_poi_to_this_person_pp' , \n",
    "             'exercised_stock_options', 'poi']].values\n",
    "X = data[:,0:6]\n",
    "y = np.array(data[:,6], dtype=float)"
   ]
  },
  {
   "cell_type": "code",
   "execution_count": 17,
   "metadata": {},
   "outputs": [],
   "source": [
    "from sklearn.metrics import precision_score\n",
    "from sklearn.metrics import recall_score\n",
    "from sklearn.cross_validation import train_test_split\n",
    "from sklearn.cross_validation import KFold\n",
    "k_fold = KFold(len(y), \n",
    "               n_folds=10, \n",
    "               shuffle=False, \n",
    "               random_state=21321)"
   ]
  },
  {
   "cell_type": "markdown",
   "metadata": {},
   "source": [
    "Now I am going to use these features to build my classifier. I am going to use RandomForestClassifier for this classification"
   ]
  },
  {
   "cell_type": "code",
   "execution_count": 18,
   "metadata": {},
   "outputs": [
    {
     "name": "stdout",
     "output_type": "stream",
     "text": [
      "precision: 0.5406776556776557\n",
      "recall: 0.5675824175824176\n"
     ]
    }
   ],
   "source": [
    "clf1 = RandomForestClassifier(random_state=23445)\n",
    "from sklearn.model_selection import cross_validate\n",
    "score1 = cross_validate(clf1, X, y, cv=k_fold, n_jobs=1, scoring=['precision_macro','recall_macro'])\n",
    "print(\"precision:\", np.mean(score1['test_precision_macro']))\n",
    "print(\"recall:\", np.mean(score1['test_recall_macro']))"
   ]
  },
  {
   "cell_type": "code",
   "execution_count": 19,
   "metadata": {},
   "outputs": [
    {
     "name": "stdout",
     "output_type": "stream",
     "text": [
      "precision: 0.5931868131868132\n",
      "recall: 0.5916083916083916\n"
     ]
    }
   ],
   "source": [
    "clf2 = RandomForestClassifier(random_state=23445, criterion=\"entropy\")\n",
    "score2 = cross_validate(clf2, X, y, cv=k_fold, n_jobs=1, scoring=['precision_macro','recall_macro'])\n",
    "print(\"precision:\", np.mean(score2['test_precision_macro']))\n",
    "print(\"recall:\", np.mean(score2['test_recall_macro']))"
   ]
  },
  {
   "cell_type": "code",
   "execution_count": 20,
   "metadata": {},
   "outputs": [
    {
     "name": "stdout",
     "output_type": "stream",
     "text": [
      "precision: 0.5934249084249085\n",
      "recall: 0.6166083916083916\n"
     ]
    }
   ],
   "source": [
    "clf3 = RandomForestClassifier(random_state=23445, n_estimators=20)\n",
    "score3 = cross_validate(clf3, X, y, cv=k_fold, n_jobs=1, scoring=['precision_macro','recall_macro'])\n",
    "print(\"precision:\", np.mean(score3['test_precision_macro']))\n",
    "print(\"recall:\", np.mean(score3['test_recall_macro']))"
   ]
  },
  {
   "cell_type": "markdown",
   "metadata": {},
   "source": [
    "In last case we see that both precision and recall are better\n",
    "Now for AdaBoost Classifier"
   ]
  },
  {
   "cell_type": "code",
   "execution_count": 21,
   "metadata": {},
   "outputs": [
    {
     "name": "stdout",
     "output_type": "stream",
     "text": [
      "precision: 0.5756776556776557\n",
      "recall: 0.6026889776889777\n"
     ]
    }
   ],
   "source": [
    "from sklearn.ensemble import AdaBoostClassifier\n",
    "adb1 = AdaBoostClassifier(random_state=2324)\n",
    "score_1 = cross_validate(adb1, X, y, cv=k_fold, n_jobs=1, scoring=['precision_macro','recall_macro'])\n",
    "print(\"precision:\", np.mean(score_1['test_precision_macro']))\n",
    "print(\"recall:\", np.mean(score_1['test_recall_macro']))"
   ]
  },
  {
   "cell_type": "code",
   "execution_count": 22,
   "metadata": {},
   "outputs": [
    {
     "name": "stdout",
     "output_type": "stream",
     "text": [
      "precision: 0.5957234432234433\n",
      "recall: 0.6002622377622377\n"
     ]
    }
   ],
   "source": [
    "adb2 = AdaBoostClassifier(random_state=2324, learning_rate=0.1)\n",
    "score_2 = cross_validate(adb2, X, y, cv=k_fold, n_jobs=1, scoring=['precision_macro','recall_macro'])\n",
    "print(\"precision:\", np.mean(score_2['test_precision_macro']))\n",
    "print(\"recall:\", np.mean(score_2['test_recall_macro']))"
   ]
  },
  {
   "cell_type": "code",
   "execution_count": 23,
   "metadata": {},
   "outputs": [
    {
     "name": "stdout",
     "output_type": "stream",
     "text": [
      "precision: 0.6219139194139195\n",
      "recall: 0.6086538461538462\n"
     ]
    }
   ],
   "source": [
    "adb3 = AdaBoostClassifier(random_state=2324, learning_rate=0.05)\n",
    "score_3 = cross_validate(adb3, X, y, cv=k_fold, n_jobs=1, scoring=['precision_macro','recall_macro'])\n",
    "print(\"precision:\", np.mean(score_3['test_precision_macro']))\n",
    "print(\"recall:\", np.mean(score_3['test_recall_macro']))"
   ]
  },
  {
   "cell_type": "markdown",
   "metadata": {},
   "source": [
    "Here in AdaBoost the precision is better in last model"
   ]
  },
  {
   "cell_type": "markdown",
   "metadata": {},
   "source": [
    "\n",
    "### Evaluation metrics (Question 6)\n",
    "\n",
    "I have used two metrics precision and recall to evaluate performance.\n",
    "\n",
    "Precision here means that if a person is not POI, our algo is labeling it accurately, and recall is if a person is POI then our algo is labeling it accurately postively. We need a good recall score for his algo, to find more potential POIs.\n",
    "\n",
    "We have almost same precision values for both algo. But for AdaBoost the recall is higher than RandomForest. So I decised to choose AdaBoost algo with parameters of second model"
   ]
  },
  {
   "cell_type": "markdown",
   "metadata": {},
   "source": [
    "Refrences:\n",
    "\n",
    "[1] : https://machinelearningmastery.com/feature-selection-machine-learning-python/"
   ]
  }
 ],
 "metadata": {
  "kernelspec": {
   "display_name": "Python 3",
   "language": "python",
   "name": "python3"
  },
  "language_info": {
   "codemirror_mode": {
    "name": "ipython",
    "version": 3
   },
   "file_extension": ".py",
   "mimetype": "text/x-python",
   "name": "python",
   "nbconvert_exporter": "python",
   "pygments_lexer": "ipython3",
   "version": "3.6.6"
  }
 },
 "nbformat": 4,
 "nbformat_minor": 2
}
